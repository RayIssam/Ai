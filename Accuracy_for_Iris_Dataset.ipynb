{
  "nbformat": 4,
  "nbformat_minor": 0,
  "metadata": {
    "colab": {
      "provenance": []
    },
    "kernelspec": {
      "name": "python3",
      "display_name": "Python 3"
    },
    "language_info": {
      "name": "python"
    }
  },
  "cells": [
    {
      "cell_type": "code",
      "execution_count": 5,
      "metadata": {
        "id": "hPiwljnoHF6C"
      },
      "outputs": [],
      "source": [
        "from sklearn.datasets import load_iris\n",
        "from sklearn.model_selection import train_test_split\n",
        "\n",
        "# Load iris dataset\n",
        "iris = load_iris()\n",
        "X, y = iris.data, iris.target\n",
        "\n",
        "# Split dataset with an example random state\n",
        "X_train, X_test, y_train, y_test = train_test_split(X, y, test_size=0.2, random_state=42)\n"
      ]
    },
    {
      "cell_type": "code",
      "source": [
        "from sklearn.svm import SVC\n",
        "from sklearn.metrics import accuracy_score\n",
        "\n",
        "results = []\n",
        "for state in range(42, 45):  # Experiment with different states here\n",
        "    X_train, X_test, y_train, y_test = train_test_split(X, y, test_size=0.2, random_state=state)\n",
        "    clf = SVC()  # SVM Classifier with default hyperparameters\n",
        "    clf.fit(X_train, y_train)\n",
        "    train_acc = accuracy_score(y_train, clf.predict(X_train))\n",
        "    test_acc = accuracy_score(y_test, clf.predict(X_test))\n",
        "    results.append((state, train_acc, test_acc))\n",
        "\n",
        "for res in results:\n",
        "    print(f\"Random State: {res[0]}, Train Accuracy: {res[1]:.2f}, Test Accuracy: {res[2]:.2f}\")\n"
      ],
      "metadata": {
        "colab": {
          "base_uri": "https://localhost:8080/"
        },
        "id": "37R5fdLTHLlC",
        "outputId": "6dc597fd-1e7f-4a73-b911-6e692e678fa5"
      },
      "execution_count": 6,
      "outputs": [
        {
          "output_type": "stream",
          "name": "stdout",
          "text": [
            "Random State: 42, Train Accuracy: 0.97, Test Accuracy: 1.00\n",
            "Random State: 43, Train Accuracy: 0.97, Test Accuracy: 0.93\n",
            "Random State: 44, Train Accuracy: 0.95, Test Accuracy: 0.97\n"
          ]
        }
      ]
    },
    {
      "cell_type": "code",
      "source": [
        "'''\n",
        "let’s compare three algorithms with a fixed random_state (e.g., 42).\n",
        "\n",
        "Choose Three Classifiers: Use SVM, Decision Tree, and Random Forest as specified. Load each classifier with default settings.\n",
        "\n",
        "Train and Compare Accuracy: Here’s an example code:\n",
        "'''\n",
        "from sklearn.tree import DecisionTreeClassifier\n",
        "from sklearn.ensemble import RandomForestClassifier\n",
        "\n",
        "classifiers = {\n",
        "    \"SVM\": SVC(),\n",
        "    \"Decision Tree\": DecisionTreeClassifier(),\n",
        "    \"Random Forest\": RandomForestClassifier()\n",
        "}\n",
        "\n",
        "results = []\n",
        "X_train, X_test, y_train, y_test = train_test_split(X, y, test_size=0.2, random_state=42)\n",
        "\n",
        "for name, clf in classifiers.items():\n",
        "    clf.fit(X_train, y_train)\n",
        "    train_acc = accuracy_score(y_train, clf.predict(X_train))\n",
        "    test_acc = accuracy_score(y_test, clf.predict(X_test))\n",
        "    results.append((name, train_acc, test_acc))\n",
        "\n",
        "for res in results:\n",
        "    print(f\"{res[0]} - Train Accuracy: {res[1]:.2f}, Test Accuracy: {res[2]:.2f}\")\n"
      ],
      "metadata": {
        "colab": {
          "base_uri": "https://localhost:8080/"
        },
        "id": "u5KshWNMH3Tu",
        "outputId": "1396d92a-7b03-43e7-c22e-25296fcd69bc"
      },
      "execution_count": 7,
      "outputs": [
        {
          "output_type": "stream",
          "name": "stdout",
          "text": [
            "SVM - Train Accuracy: 0.97, Test Accuracy: 1.00\n",
            "Decision Tree - Train Accuracy: 1.00, Test Accuracy: 1.00\n",
            "Random Forest - Train Accuracy: 1.00, Test Accuracy: 1.00\n"
          ]
        }
      ]
    }
  ]
}